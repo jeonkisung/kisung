{
  "nbformat": 4,
  "nbformat_minor": 0,
  "metadata": {
    "colab": {
      "name": "2022_ai_tensorflow[01].ipynb",
      "provenance": [],
      "collapsed_sections": []
    },
    "kernelspec": {
      "name": "python3",
      "display_name": "Python 3"
    },
    "language_info": {
      "name": "python"
    },
    "accelerator": "GPU"
  },
  "cells": [
    {
      "cell_type": "code",
      "execution_count": null,
      "metadata": {
        "id": "-HlX33Yw9tXV"
      },
      "outputs": [],
      "source": [
        ""
      ]
    },
    {
      "cell_type": "markdown",
      "source": [
        "로컬에 [가상환경]\n",
        "\n",
        "- conda create -n tensorEvn python=3.7\n",
        "- conda activate tensorEvn\n",
        "\n",
        "- pip install tensorflow==2.3.1\n",
        "- pip install scikit_learn==0.23.2\n",
        "- pip install pandas\n",
        "\n",
        "- conda install jupyter notebook"
      ],
      "metadata": {
        "id": "UQ21mZa3CTlR"
      }
    },
    {
      "cell_type": "code",
      "source": [
        "import tensorflow as tf\n",
        "import numpy      as np\n",
        "\n",
        "from   tensorflow.keras.models import  Sequential , clone_model\n",
        "from   tensorflow.keras.layers import  Dense , Activation , InputLayer\n",
        "\n",
        "\n",
        "print('tensor 란 ? 다차원 배열 - ')\n",
        "print('rank 란? 차원 - rank=0(scalar) , rank=1(vector) , rank=2(matrix) , rank=3(3D)')\n",
        "\n"
      ],
      "metadata": {
        "colab": {
          "base_uri": "https://localhost:8080/"
        },
        "id": "Aq3F4tu4F7hg",
        "outputId": "9bdd62de-c33b-49cf-ca81-f7d99fcbfdd1"
      },
      "execution_count": 48,
      "outputs": [
        {
          "output_type": "stream",
          "name": "stdout",
          "text": [
            "tensor 란 ? 다차원 배열 - \n",
            "rank 란? 차원 - rank=0(scalar) , rank=1(vector) , rank=2(matrix) , rank=3(3D)\n"
          ]
        }
      ]
    },
    {
      "cell_type": "code",
      "source": [
        "print('텐서 생성 및 랭크 확인!!') \n",
        "\n",
        "scalar = tf.constant(1)\n",
        "vector = tf.constant([1,2,3])\n",
        "matrix = tf.constant([[1,2,3],[4,5,6]])\n",
        "tensor = tf.constant([ [[1,2,3],[4,5,6]] ,[[1,2,3],[4,5,6]] ] )\n",
        "print()\n",
        "print(tf.rank(scalar))\n",
        "print(tf.rank(vector))\n",
        "print(tf.rank(matrix))\n",
        "print(tf.rank(tensor))"
      ],
      "metadata": {
        "colab": {
          "base_uri": "https://localhost:8080/"
        },
        "id": "NTJ-ZVilGKWT",
        "outputId": "f58d755f-4acb-4ab7-e188-b718cb9daf71"
      },
      "execution_count": 2,
      "outputs": [
        {
          "output_type": "stream",
          "name": "stdout",
          "text": [
            "텐서 생성 및 랭크 확인!!\n",
            "\n",
            "tf.Tensor(0, shape=(), dtype=int32)\n",
            "tf.Tensor(1, shape=(), dtype=int32)\n",
            "tf.Tensor(2, shape=(), dtype=int32)\n",
            "tf.Tensor(3, shape=(), dtype=int32)\n"
          ]
        }
      ]
    },
    {
      "cell_type": "code",
      "source": [
        ""
      ],
      "metadata": {
        "id": "UdagOWd7HVs7"
      },
      "execution_count": 8,
      "outputs": []
    },
    {
      "cell_type": "markdown",
      "source": [
        "#### tensor를 이용한 간단한 신경망 구현!!(Neural Network)"
      ],
      "metadata": {
        "id": "9tElDpEaIVLS"
      }
    },
    {
      "cell_type": "markdown",
      "source": [
        ""
      ],
      "metadata": {
        "id": "vfEkgWuBITkK"
      }
    },
    {
      "cell_type": "code",
      "source": [
        "print('mlp - 입력층  히든층  출력층')\n",
        "\n",
        "print('01. 모델 생성')\n",
        "model = Sequential()\n",
        "\n",
        "print('02. 층 추가')\n",
        "model.add( Dense(units = 1 , input_shape = [1] ) )\n",
        "\n",
        "\n",
        "print('03. 모델 컴파일')\n",
        "model.compile(loss = 'mean_squared_error' , optimizer = 'sgd')\n",
        "\n",
        "# y = 2x - 1 \n",
        "# y = wx + b \n",
        "\n",
        "X_train = np.array([-1.0 , 0.0  , 1.0 , 2.0 , 3.0 , 4.0 ]) \n",
        "y_train = np.array([-3.0 , -1.0 , 1.0 , 3.0 , 5.0 , 7.0 ]) \n",
        "\n",
        "print('04. 모델 학습')\n",
        "model.fit(X_train , y_train , epochs = 500)\n",
        "\n",
        "print('05. 예측') \n",
        "y_pred = model.predict([5.0])"
      ],
      "metadata": {
        "id": "kDTN_iyQISm4"
      },
      "execution_count": null,
      "outputs": []
    },
    {
      "cell_type": "code",
      "source": [
        "print(y_pred)"
      ],
      "metadata": {
        "colab": {
          "base_uri": "https://localhost:8080/"
        },
        "id": "3fR4EypxJM4N",
        "outputId": "5b3049f5-32dd-46cb-e978-8d2a98866677"
      },
      "execution_count": 11,
      "outputs": [
        {
          "output_type": "stream",
          "name": "stdout",
          "text": [
            "[[8.996137]]\n"
          ]
        }
      ]
    },
    {
      "cell_type": "code",
      "source": [
        "print('1개의 입력 , 3출력 노드를 갖는 신경망 모델을 만든다면?')\n",
        "\n",
        "model = Sequential()\n",
        "model.add( Dense(units = 3 , input_shape = (1,) ) )\n",
        "model.compile(loss = 'mse' , optimizer = 'sgd')\n",
        "\n",
        "history = model.fit([1] , [[0, 1, 0]] , epochs = 100)"
      ],
      "metadata": {
        "id": "RrKr3InFSM13"
      },
      "execution_count": null,
      "outputs": []
    },
    {
      "cell_type": "code",
      "source": [
        "model.evaluate([1] , [[0, 1, 0]])"
      ],
      "metadata": {
        "colab": {
          "base_uri": "https://localhost:8080/"
        },
        "id": "Iz8FQGorTy_k",
        "outputId": "2093944a-b22f-4ab1-8f89-9038e88eef17"
      },
      "execution_count": 16,
      "outputs": [
        {
          "output_type": "stream",
          "name": "stdout",
          "text": [
            "1/1 [==============================] - 0s 71ms/step - loss: 0.0950\n"
          ]
        },
        {
          "output_type": "execute_result",
          "data": {
            "text/plain": [
              "0.0950424000620842"
            ]
          },
          "metadata": {},
          "execution_count": 16
        }
      ]
    },
    {
      "cell_type": "code",
      "source": [
        "history.history['loss']"
      ],
      "metadata": {
        "id": "wAzg1j1AU8Ju"
      },
      "execution_count": null,
      "outputs": []
    },
    {
      "cell_type": "code",
      "source": [
        "import matplotlib.pyplot as plt\n",
        "\n",
        "\n",
        "print('손실값 시각화')\n",
        "print()\n",
        "\n",
        "plt.figure( figsize = (10, 7))\n",
        "\n",
        "loss = history.history['loss']\n",
        "plt.plot(loss)\n",
        "\n",
        "plt.xlabel('Epoch')\n",
        "plt.ylabel('Loss')\n",
        "\n",
        "plt.show()\n",
        "plt.close()"
      ],
      "metadata": {
        "colab": {
          "base_uri": "https://localhost:8080/",
          "height": 479
        },
        "id": "cYT6mpN3VsWB",
        "outputId": "ed0be696-5da6-45a7-baef-da73a1630a1a"
      },
      "execution_count": 20,
      "outputs": [
        {
          "output_type": "stream",
          "name": "stdout",
          "text": [
            "손실값 시각화\n",
            "\n"
          ]
        },
        {
          "output_type": "display_data",
          "data": {
            "text/plain": [
              "<Figure size 720x504 with 1 Axes>"
            ],
            "image/png": "[encoded data removed]"
          },
          "metadata": {
            "needs_background": "light"
          }
        }
      ]
    },
    {
      "cell_type": "code",
      "source": [
        "model = Sequential()\n",
        "model.add( Dense(units = 3 , input_shape = (1,) ) )\n",
        "\n",
        "model02 = clone_model(model) \n",
        "\n",
        "model03  = clone_model(model)\n",
        "\n",
        "model.compile(loss = 'mse'   , optimizer = 'sgd')\n",
        "model02.compile(loss = 'mse' , optimizer = 'Adam')\n",
        "model03.compile(loss = 'mse' , optimizer = 'RMSprop')\n",
        "\n",
        "history   = model.fit([1] , [[0, 1, 0]]   , epochs = 100 , verbose = 0)\n",
        "history02 = model02.fit([1] , [[0, 1, 0]] , epochs = 100 , verbose = 0)\n",
        "history03 = model03.fit([1] , [[0, 1, 0]] , epochs = 100 , verbose = 0)\n",
        "\n",
        "print('손실값 시각화')\n",
        "print()\n",
        "\n",
        "plt.figure( figsize = (10, 7))\n",
        "\n",
        "loss   = history.history['loss']\n",
        "loss02 = history02.history['loss']\n",
        "loss03 = history03.history['loss']\n",
        "\n",
        "plt.plot(loss   , label='sgd')\n",
        "plt.plot(loss02 , label='adam')\n",
        "plt.plot(loss03 , label='rmsprop')\n",
        "\n",
        "plt.xlabel('Epoch')\n",
        "plt.ylabel('Loss')\n",
        "\n",
        "plt.legend(loc='best')\n",
        "plt.show()\n",
        "plt.close()\n",
        "\n",
        "\n"
      ],
      "metadata": {
        "colab": {
          "base_uri": "https://localhost:8080/",
          "height": 481
        },
        "id": "N1JfTAXgWKHE",
        "outputId": "a3458c27-79a6-4c83-c52f-2aebf586d102"
      },
      "execution_count": 22,
      "outputs": [
        {
          "output_type": "stream",
          "name": "stdout",
          "text": [
            "손실값 시각화\n",
            "\n"
          ]
        },
        {
          "output_type": "display_data",
          "data": {
            "text/plain": [
              "<Figure size 720x504 with 1 Axes>"
            ],
            "image/png": "[encoded data removed]"
          },
          "metadata": {
            "needs_background": "light"
          }
        }
      ]
    },
    {
      "cell_type": "code",
      "source": [
        "print('AND연산자 로직 연습')\n",
        "print()\n"
      ],
      "metadata": {
        "colab": {
          "base_uri": "https://localhost:8080/"
        },
        "id": "K6tSp2StXr1s",
        "outputId": "c86fd183-09d7-4849-e182-6b918fae042e"
      },
      "execution_count": 23,
      "outputs": [
        {
          "output_type": "stream",
          "name": "stdout",
          "text": [
            "AND연산자 로직 연습\n",
            "\n"
          ]
        }
      ]
    },
    {
      "cell_type": "code",
      "source": [
        "print('데이터 준비') \n",
        "X_train = [[0,0] , [0,1] , [1,0] , [1,1]]\n",
        "y_train = [[0] , [0] , [0] , [1]] "
      ],
      "metadata": {
        "colab": {
          "base_uri": "https://localhost:8080/"
        },
        "id": "fAJEJaMmdoL9",
        "outputId": "b46e8cad-c38d-45a3-93a6-f4e7a097fb5a"
      },
      "execution_count": 35,
      "outputs": [
        {
          "output_type": "stream",
          "name": "stdout",
          "text": [
            "데이터 준비\n"
          ]
        }
      ]
    },
    {
      "cell_type": "code",
      "source": [
        "print('모델 구성') \n",
        "\n",
        "# model = Sequential() \n",
        "\n",
        "# model.add( Dense(units = 3 , input_shape=(2,) , activation = 'relu') )\n",
        "# model.add( Dense(units = 1 ) )\n",
        "\n",
        "# model.add( Dense(units = 3 , input_shape=[2] ) )\n",
        "# model.add( Activation('relu')) \n",
        "# model.add( Dense(units = 1 ) )\n",
        "\n",
        "input_layer  = InputLayer(input_shape=(2,)) \n",
        "hidden_layer = Dense(units = 3 , activation = 'relu')\n",
        "output_layer = Dense(units = 1)\n",
        "\n",
        "# model.add(input_layer)\n",
        "# model.add(hidden_layer)\n",
        "# model.add(output_layer)\n",
        "\n",
        "model = Sequential([\n",
        "  input_layer  , \n",
        "  hidden_layer , \n",
        "  output_layer                    \n",
        "]) \n"
      ],
      "metadata": {
        "colab": {
          "base_uri": "https://localhost:8080/"
        },
        "id": "T3FiY4WHd2cQ",
        "outputId": "2b7452ef-2e1c-4ab8-9126-5b56c1a37194"
      },
      "execution_count": 58,
      "outputs": [
        {
          "output_type": "stream",
          "name": "stdout",
          "text": [
            "모델 구성\n"
          ]
        }
      ]
    },
    {
      "cell_type": "code",
      "source": [
        "print('컴파일')\n",
        "\n",
        "model.compile(loss = 'mse' , \n",
        "              optimizer = 'Adam') "
      ],
      "metadata": {
        "colab": {
          "base_uri": "https://localhost:8080/"
        },
        "id": "XV0ATyLTeFU7",
        "outputId": "38548cb3-7451-4f43-e1a8-0c21dfb445bf"
      },
      "execution_count": 54,
      "outputs": [
        {
          "output_type": "stream",
          "name": "stdout",
          "text": [
            "컴파일\n"
          ]
        }
      ]
    },
    {
      "cell_type": "code",
      "source": [
        "print('훈련')\n",
        "\n",
        "pred_before_training = model.predict(X_train) \n",
        "print(pred_before_training)\n",
        "print()\n",
        "history = model.fit(X_train , y_train , epochs = 1000 , verbose = 0 ) \n",
        "pred_after_training = model.predict(X_train) \n",
        "print(pred_after_training)\n"
      ],
      "metadata": {
        "colab": {
          "base_uri": "https://localhost:8080/"
        },
        "id": "8PvduJE4gPjd",
        "outputId": "b4ae1cbc-60d5-41a1-d4cb-fc5685e8a3b2"
      },
      "execution_count": 55,
      "outputs": [
        {
          "output_type": "stream",
          "name": "stdout",
          "text": [
            "훈련\n",
            "WARNING:tensorflow:6 out of the last 8 calls to <function Model.make_predict_function.<locals>.predict_function at 0x7f74bb8b30e0> triggered tf.function retracing. Tracing is expensive and the excessive number of tracings could be due to (1) creating @tf.function repeatedly in a loop, (2) passing tensors with different shapes, (3) passing Python objects instead of tensors. For (1), please define your @tf.function outside of the loop. For (2), @tf.function has experimental_relax_shapes=True option that relaxes argument shapes that can avoid unnecessary retracing. For (3), please refer to https://www.tensorflow.org/guide/function#controlling_retracing and https://www.tensorflow.org/api_docs/python/tf/function for  more details.\n",
            "[[ 0.        ]\n",
            " [ 0.33637086]\n",
            " [-0.5460635 ]\n",
            " [-0.57153606]]\n",
            "\n",
            "[[-0.07842392]\n",
            " [ 0.19985685]\n",
            " [ 0.11712715]\n",
            " [ 0.78920704]]\n"
          ]
        }
      ]
    },
    {
      "cell_type": "code",
      "source": [
        "print('손실값 시각화')\n",
        "print()\n",
        "\n",
        "plt.figure( figsize = (10, 7))\n",
        "\n",
        "loss = history.history['loss']\n",
        "plt.plot(loss)\n",
        "\n",
        "plt.xlabel('Epoch')\n",
        "plt.ylabel('Loss')\n",
        "\n",
        "plt.show()\n",
        "plt.close()"
      ],
      "metadata": {
        "colab": {
          "base_uri": "https://localhost:8080/",
          "height": 479
        },
        "id": "CHD9T0-pgenM",
        "outputId": "e12393df-c40d-48a8-95b4-90ab0039f3a2"
      },
      "execution_count": 56,
      "outputs": [
        {
          "output_type": "stream",
          "name": "stdout",
          "text": [
            "손실값 시각화\n",
            "\n"
          ]
        },
        {
          "output_type": "display_data",
          "data": {
            "text/plain": [
              "<Figure size 720x504 with 1 Axes>"
            ],
            "image/png": "[encoded data removed]"
          },
          "metadata": {
            "needs_background": "light"
          }
        }
      ]
    },
    {
      "cell_type": "code",
      "source": [
        "print('훈련결과 시각화')\n",
        "print()\n",
        "\n",
        "plt.figure( figsize = (10, 7))\n",
        "\n",
        "plt.plot(pred_before_training , 's-', label = 'pred_before_training' )\n",
        "plt.plot(pred_after_training  , 'd-', label = 'pred_after_training'  )\n",
        "plt.plot(y_train              , 'o-', label = 'y_train' )\n",
        "\n",
        "plt.xlabel('Input (X_train)' , labelpad = 15)\n",
        "plt.ylabel('Ouput (y_train)' , labelpad = 15)\n",
        "\n",
        "plt.xticks(np.arange(4) , labels = ['[0,0]', '[0,1]', '[1,0]' , '[1,1]'])\n",
        "plt.legend()\n",
        "plt.show()\n",
        "plt.close()"
      ],
      "metadata": {
        "colab": {
          "base_uri": "https://localhost:8080/",
          "height": 491
        },
        "id": "qMpUzeUkhsRd",
        "outputId": "23584274-a657-48eb-886c-0d33f12223ae"
      },
      "execution_count": 59,
      "outputs": [
        {
          "output_type": "stream",
          "name": "stdout",
          "text": [
            "훈련결과 시각화\n",
            "\n"
          ]
        },
        {
          "output_type": "display_data",
          "data": {
            "text/plain": [
              "<Figure size 720x504 with 1 Axes>"
            ],
            "image/png": "[encoded data removed]"
          },
          "metadata": {
            "needs_background": "light"
          }
        }
      ]
    },
    {
      "cell_type": "code",
      "source": [
        "print('Multi Layer Perceptron and Regression - ')\n",
        "print('회귀 - 손실함수(loss function) , 평가지표(metric) - 평균제곱오차(mse) , 옵티마이저(sgd)')"
      ],
      "metadata": {
        "colab": {
          "base_uri": "https://localhost:8080/"
        },
        "id": "WiCjzv-DiJhi",
        "outputId": "b76fe57b-c960-4394-b8a0-4db6dcca7e3e"
      },
      "execution_count": 61,
      "outputs": [
        {
          "output_type": "stream",
          "name": "stdout",
          "text": [
            "Multi Layer Perceptron and Regression - \n",
            "회귀 - 손실함수(loss function) , 평가지표(metric) - 평균제곱오차(mse) , 옵티마이저(sgd)\n"
          ]
        }
      ]
    },
    {
      "cell_type": "code",
      "source": [
        "from tensorflow.keras.datasets import boston_housing , mnist\n",
        "from tensorflow.keras.models   import Sequential , clone_model , Model\n",
        "from tensorflow.keras.layers   import Dense , Activation , InputLayer , Flatten , Input\n",
        "from tensorflow.keras          import optimizers  \n",
        "from keras.utils.np_utils      import to_categorical\n",
        "\n",
        "from sklearn.datasets          import load_iris , load_breast_cancer , load_digits\n",
        "from sklearn.model_selection   import train_test_split\n",
        "\n",
        "import matplotlib.pyplot as plt\n"
      ],
      "metadata": {
        "id": "2XcmjYCQ3eVW"
      },
      "execution_count": 208,
      "outputs": []
    },
    {
      "cell_type": "code",
      "source": [
        "(X_train , y_train), (X_test , y_test) = boston_housing.load_data()\n",
        "(X_train.shape , y_train.shape), (X_test.shape , y_test.shape)"
      ],
      "metadata": {
        "colab": {
          "base_uri": "https://localhost:8080/"
        },
        "id": "A3anvk-e3euu",
        "outputId": "5883828a-a9a5-4ca1-8ace-5d9f8ddc41ed"
      },
      "execution_count": 74,
      "outputs": [
        {
          "output_type": "execute_result",
          "data": {
            "text/plain": [
              "(((404, 13), (404,)), ((102, 13), (102,)))"
            ]
          },
          "metadata": {},
          "execution_count": 74
        }
      ]
    },
    {
      "cell_type": "code",
      "source": [
        "boston_model = Sequential()"
      ],
      "metadata": {
        "id": "AKkVx-D-3exu"
      },
      "execution_count": 75,
      "outputs": []
    },
    {
      "cell_type": "code",
      "source": [
        "# boston_model.add( Dense(units = 10 , input_shape = (13,) ))\n",
        "# boston_model.add( Activation('sigmoid') ) \n",
        "\n",
        "# boston_model.add( Dense(units = 10))\n",
        "# boston_model.add( Activation('sigmoid') ) \n",
        "\n",
        "# boston_model.add( Dense(units = 10))\n",
        "# boston_model.add( Activation('sigmoid') ) \n",
        "\n",
        "# boston_model.add( Dense(units = 1))\n",
        "\n",
        "boston_model.add( Dense(units = 10 , input_shape = (13,) , activation = 'sigmoid'))\n",
        "boston_model.add( Dense(units = 10 , activation = 'sigmoid'))\n",
        "boston_model.add( Dense(units = 10 , activation = 'sigmoid' ))\n",
        "boston_model.add( Dense(units = 1))\n",
        "\n",
        "opt = optimizers.SGD(lr = 0.001)\n",
        "\n",
        "boston_model.compile(optimizer = opt , \n",
        "                     loss      = 'mean_squared_error' , \n",
        "                     metrics   = ['mse']) "
      ],
      "metadata": {
        "colab": {
          "base_uri": "https://localhost:8080/"
        },
        "id": "UEK9j3s73e0f",
        "outputId": "e814eb47-b8a4-4230-b5ee-5d660b782ca2"
      },
      "execution_count": 79,
      "outputs": [
        {
          "output_type": "stream",
          "name": "stderr",
          "text": [
            "/usr/local/lib/python3.7/dist-packages/keras/optimizer_v2/gradient_descent.py:102: UserWarning: The `lr` argument is deprecated, use `learning_rate` instead.\n",
            "  super(SGD, self).__init__(name, **kwargs)\n"
          ]
        }
      ]
    },
    {
      "cell_type": "code",
      "source": [
        ""
      ],
      "metadata": {
        "id": "l22q1G123e3P"
      },
      "execution_count": 79,
      "outputs": []
    },
    {
      "cell_type": "code",
      "source": [
        "boston_model.fit(X_train , y_train , batch_size = 50 , epochs = 100 , verbose = 1)"
      ],
      "metadata": {
        "id": "6mut-IfD3e59"
      },
      "execution_count": null,
      "outputs": []
    },
    {
      "cell_type": "code",
      "source": [
        "boston_model.summary()"
      ],
      "metadata": {
        "id": "ljR9Zo6V8_MJ"
      },
      "execution_count": null,
      "outputs": []
    },
    {
      "cell_type": "code",
      "source": [
        "boston_model_eval = boston_model.evaluate(X_test , y_test) \n",
        "boston_model_eval"
      ],
      "metadata": {
        "colab": {
          "base_uri": "https://localhost:8080/"
        },
        "id": "q_jVVsOM9tVL",
        "outputId": "45b4f9fe-e244-44aa-f806-0417ef6134c9"
      },
      "execution_count": 83,
      "outputs": [
        {
          "output_type": "stream",
          "name": "stdout",
          "text": [
            "4/4 [==============================] - 0s 5ms/step - loss: 83.6215 - mse: 83.6215\n"
          ]
        },
        {
          "output_type": "execute_result",
          "data": {
            "text/plain": [
              "[83.62152099609375, 83.62152099609375]"
            ]
          },
          "metadata": {},
          "execution_count": 83
        }
      ]
    },
    {
      "cell_type": "code",
      "source": [
        "print('모델의 평가 지표 이름 - ')\n",
        "boston_model.metrics_names"
      ],
      "metadata": {
        "colab": {
          "base_uri": "https://localhost:8080/"
        },
        "id": "IdP1qSUl-SOU",
        "outputId": "0c119d5f-514a-4079-e565-554304aa4fc8"
      },
      "execution_count": 86,
      "outputs": [
        {
          "output_type": "stream",
          "name": "stdout",
          "text": [
            "모델의 평가 지표 이름 - \n"
          ]
        },
        {
          "output_type": "execute_result",
          "data": {
            "text/plain": [
              "['loss', 'mse']"
            ]
          },
          "metadata": {},
          "execution_count": 86
        }
      ]
    },
    {
      "cell_type": "code",
      "source": [
        "print('loss - ' , boston_model_eval[0] )\n",
        "print('mse  - ' , boston_model_eval[1] )"
      ],
      "metadata": {
        "colab": {
          "base_uri": "https://localhost:8080/"
        },
        "id": "oBJo1f88-XdR",
        "outputId": "9a8e9e28-beb6-422c-9a65-4c633c647726"
      },
      "execution_count": 85,
      "outputs": [
        {
          "output_type": "stream",
          "name": "stdout",
          "text": [
            "loss -  83.62152099609375\n",
            "mse  -  83.62152099609375\n"
          ]
        }
      ]
    },
    {
      "cell_type": "code",
      "source": [
        "print('Multi Layer Perceptron and Regression - ')\n",
        "print('분류 - 손실함수(loss function - binary_crossentropy)  , 평가지표(metric) - 정확도(accuracy) , 옵티마이저(sgd)')"
      ],
      "metadata": {
        "colab": {
          "base_uri": "https://localhost:8080/"
        },
        "id": "95k0hMCq-hz_",
        "outputId": "d6cc3c9e-11c2-4e7f-f576-dc8a369da3e6"
      },
      "execution_count": 87,
      "outputs": [
        {
          "output_type": "stream",
          "name": "stdout",
          "text": [
            "Multi Layer Perceptron and Regression - \n",
            "분류 - 손실함수(loss function - binary_crossentropy)  , 평가지표(metric) - 정확도(accuracy) , 옵티마이저(sgd)\n"
          ]
        }
      ]
    },
    {
      "cell_type": "code",
      "source": [
        "cancer = load_breast_cancer()\n",
        "cancer.keys()\n"
      ],
      "metadata": {
        "colab": {
          "base_uri": "https://localhost:8080/"
        },
        "id": "v8-NcmEV_Rtn",
        "outputId": "638ce7b8-d03f-4411-cbd2-a2bdd80878ac"
      },
      "execution_count": 99,
      "outputs": [
        {
          "output_type": "execute_result",
          "data": {
            "text/plain": [
              "dict_keys(['data', 'target', 'frame', 'target_names', 'DESCR', 'feature_names', 'filename', 'data_module'])"
            ]
          },
          "metadata": {},
          "execution_count": 99
        }
      ]
    },
    {
      "cell_type": "code",
      "source": [
        "X_train , X_test , y_train , y_test = train_test_split(cancer.data , \n",
        "                                                      cancer.target , \n",
        "                                                      test_size = 0.2 ,\n",
        "                                                      random_state = 100)\n",
        "X_train.shape , X_test.shape , y_train.shape , y_test.shape"
      ],
      "metadata": {
        "colab": {
          "base_uri": "https://localhost:8080/"
        },
        "id": "IXoe-40k_yzn",
        "outputId": "e8941a01-0d5a-47d3-eb5a-455568c45892"
      },
      "execution_count": 100,
      "outputs": [
        {
          "output_type": "execute_result",
          "data": {
            "text/plain": [
              "((455, 30), (114, 30), (455,), (114,))"
            ]
          },
          "metadata": {},
          "execution_count": 100
        }
      ]
    },
    {
      "cell_type": "code",
      "source": [
        "cancer_model = Sequential()\n",
        "\n",
        "cancer_model.add( Dense(units = 10 , input_shape = (30,) , activation = 'sigmoid'))\n",
        "cancer_model.add( Dense(units = 10 , activation = 'sigmoid'))\n",
        "cancer_model.add( Dense(units = 10 , activation = 'sigmoid' ))\n",
        "cancer_model.add( Dense(units = 1  , activation = 'sigmoid'))\n",
        "\n",
        "opt = optimizers.SGD(lr = 0.001)\n",
        "\n",
        "cancer_model.compile(optimizer = opt , \n",
        "                     loss      = 'binary_crossentropy' , \n",
        "                     metrics   = ['accuracy']) "
      ],
      "metadata": {
        "id": "5_1YlrP8ANPl"
      },
      "execution_count": null,
      "outputs": []
    },
    {
      "cell_type": "code",
      "source": [
        "cancer_model.summary()"
      ],
      "metadata": {
        "id": "3wXdt_fXAxNc"
      },
      "execution_count": null,
      "outputs": []
    },
    {
      "cell_type": "code",
      "source": [
        "cancer_model_history = cancer_model.fit(X_train , y_train , batch_size = 50 , epochs = 100 , verbose = 1)"
      ],
      "metadata": {
        "id": "-k_cRFmIAyo8"
      },
      "execution_count": null,
      "outputs": []
    },
    {
      "cell_type": "code",
      "source": [
        "cancer_model_history.history"
      ],
      "metadata": {
        "id": "9zI4627yA9hX"
      },
      "execution_count": null,
      "outputs": []
    },
    {
      "cell_type": "code",
      "source": [
        "cancer_model_eval = cancer_model.evaluate(X_test , y_test)\n",
        "cancer_model_eval"
      ],
      "metadata": {
        "colab": {
          "base_uri": "https://localhost:8080/"
        },
        "id": "ZtG4s9mBGcVC",
        "outputId": "6a073ad4-8a94-4379-bd72-0451c1bb84f6"
      },
      "execution_count": 112,
      "outputs": [
        {
          "output_type": "stream",
          "name": "stdout",
          "text": [
            "4/4 [==============================] - 0s 3ms/step - loss: 0.6734 - accuracy: 0.5702\n"
          ]
        },
        {
          "output_type": "execute_result",
          "data": {
            "text/plain": [
              "[0.6733992695808411, 0.5701754093170166]"
            ]
          },
          "metadata": {},
          "execution_count": 112
        }
      ]
    },
    {
      "cell_type": "code",
      "source": [
        "print('모델의 평가 지표 이름 - ')\n",
        "cancer_model.metrics_names"
      ],
      "metadata": {
        "colab": {
          "base_uri": "https://localhost:8080/"
        },
        "id": "zPzk5UzFGlpj",
        "outputId": "4e324253-8e63-4867-f38e-8ddb59e096db"
      },
      "execution_count": 110,
      "outputs": [
        {
          "output_type": "stream",
          "name": "stdout",
          "text": [
            "모델의 평가 지표 이름 - \n"
          ]
        },
        {
          "output_type": "execute_result",
          "data": {
            "text/plain": [
              "['loss', 'accuracy']"
            ]
          },
          "metadata": {},
          "execution_count": 110
        }
      ]
    },
    {
      "cell_type": "code",
      "source": [
        "print('loss     - ' , cancer_model_eval[0] )\n",
        "print('accuracy - ' , cancer_model_eval[1] )"
      ],
      "metadata": {
        "colab": {
          "base_uri": "https://localhost:8080/"
        },
        "id": "6JNrPgBnGzs_",
        "outputId": "8c487114-df15-4f4f-ebf9-94b03486fd78"
      },
      "execution_count": 113,
      "outputs": [
        {
          "output_type": "stream",
          "name": "stdout",
          "text": [
            "loss     -  0.6733992695808411\n",
            "accuracy -  0.5701754093170166\n"
          ]
        }
      ]
    },
    {
      "cell_type": "code",
      "source": [
        "print('분류 - 다중(mnist)')\n",
        "(X_train , y_train), (X_test , y_test) = mnist.load_data()\n",
        "(X_train.shape , y_train.shape), (X_test.shape , y_test.shape)\n"
      ],
      "metadata": {
        "colab": {
          "base_uri": "https://localhost:8080/"
        },
        "id": "F5tmd6fCHSFd",
        "outputId": "e5be6b2e-0b06-4fb2-c7b1-7005c977dd58"
      },
      "execution_count": 162,
      "outputs": [
        {
          "output_type": "stream",
          "name": "stdout",
          "text": [
            "분류 - 다중(mnist)\n"
          ]
        },
        {
          "output_type": "execute_result",
          "data": {
            "text/plain": [
              "(((60000, 28, 28), (60000,)), ((10000, 28, 28), (10000,)))"
            ]
          },
          "metadata": {},
          "execution_count": 162
        }
      ]
    },
    {
      "cell_type": "code",
      "source": [
        "print('feature 28 * 28')\n",
        "print()\n",
        "\n",
        "plt.imshow(X_train[0] , cmap = plt.cm.binary)\n",
        "\n",
        "plt.grid(False)\n",
        "plt.axis('off')\n",
        "plt.show()\n",
        "plt.close()"
      ],
      "metadata": {
        "colab": {
          "base_uri": "https://localhost:8080/",
          "height": 285
        },
        "id": "DCAuNqDoH5Et",
        "outputId": "1146c570-3e1e-408c-9ea3-7b6c7ad6e950"
      },
      "execution_count": 163,
      "outputs": [
        {
          "output_type": "stream",
          "name": "stdout",
          "text": [
            "feature 28 * 28\n",
            "\n"
          ]
        },
        {
          "output_type": "display_data",
          "data": {
            "text/plain": [
              "<Figure size 432x288 with 1 Axes>"
            ],
            "image/png": "[encoded data removed]"
          },
          "metadata": {
            "needs_background": "light"
          }
        }
      ]
    },
    {
      "cell_type": "code",
      "source": [
        "print('행렬 형태는 퍼셉트론 모델의 피처로 사용이 부적합하다 - ')\n",
        "print('1차원의 벡터로 변환 - ')\n",
        "print('reshape 28 * 28 -> 784') \n"
      ],
      "metadata": {
        "colab": {
          "base_uri": "https://localhost:8080/"
        },
        "id": "VHgSLzJdIVX9",
        "outputId": "2f015758-3c63-4870-a83c-58b67e3fd543"
      },
      "execution_count": 164,
      "outputs": [
        {
          "output_type": "stream",
          "name": "stdout",
          "text": [
            "행렬 형태는 퍼셉트론 모델의 피처로 사용이 부적합하다 - \n",
            "1차원의 벡터로 변환 - \n",
            "reshape 28 * 28 -> 784\n"
          ]
        }
      ]
    },
    {
      "cell_type": "code",
      "source": [
        "X_train = X_train.reshape( X_train.shape[0] , -1)"
      ],
      "metadata": {
        "id": "ai_loQngJ5IK"
      },
      "execution_count": 165,
      "outputs": []
    },
    {
      "cell_type": "code",
      "source": [
        "X_train.shape"
      ],
      "metadata": {
        "colab": {
          "base_uri": "https://localhost:8080/"
        },
        "id": "i1K-NJ3aJ6rg",
        "outputId": "2956a085-6475-4afb-cf92-d20b43f50aae"
      },
      "execution_count": 166,
      "outputs": [
        {
          "output_type": "execute_result",
          "data": {
            "text/plain": [
              "(60000, 784)"
            ]
          },
          "metadata": {},
          "execution_count": 166
        }
      ]
    },
    {
      "cell_type": "code",
      "source": [
        "X_test = X_test.reshape( X_test.shape[0] , -1)"
      ],
      "metadata": {
        "id": "AHJB1m8ZKLl8"
      },
      "execution_count": 167,
      "outputs": []
    },
    {
      "cell_type": "code",
      "source": [
        "X_test.shape"
      ],
      "metadata": {
        "colab": {
          "base_uri": "https://localhost:8080/"
        },
        "id": "VdSRLZlKKPNm",
        "outputId": "38fbe43c-045f-4c36-f6fb-403af83d7c81"
      },
      "execution_count": 168,
      "outputs": [
        {
          "output_type": "execute_result",
          "data": {
            "text/plain": [
              "(10000, 784)"
            ]
          },
          "metadata": {},
          "execution_count": 168
        }
      ]
    },
    {
      "cell_type": "code",
      "source": [
        "(X_train.shape , y_train.shape), (X_test.shape , y_test.shape)"
      ],
      "metadata": {
        "colab": {
          "base_uri": "https://localhost:8080/"
        },
        "id": "96UkQbvdKyyc",
        "outputId": "fe501958-31eb-4e6b-de96-352978eba575"
      },
      "execution_count": 169,
      "outputs": [
        {
          "output_type": "execute_result",
          "data": {
            "text/plain": [
              "(((60000, 784), (60000,)), ((10000, 784), (10000,)))"
            ]
          },
          "metadata": {},
          "execution_count": 169
        }
      ]
    },
    {
      "cell_type": "code",
      "source": [
        "print('target - ')\n",
        "print('one-hot-encoding - ') \n",
        "print()\n",
        "for idx in range(10) :\n",
        "  print(y_train[idx])"
      ],
      "metadata": {
        "colab": {
          "base_uri": "https://localhost:8080/"
        },
        "id": "QmZMJ_11K05V",
        "outputId": "806d022a-b0c2-493b-b839-3a7bf49be304"
      },
      "execution_count": 170,
      "outputs": [
        {
          "output_type": "stream",
          "name": "stdout",
          "text": [
            "target - \n",
            "one-hot-encoding - \n",
            "\n",
            "5\n",
            "0\n",
            "4\n",
            "1\n",
            "9\n",
            "2\n",
            "1\n",
            "3\n",
            "1\n",
            "4\n"
          ]
        }
      ]
    },
    {
      "cell_type": "code",
      "source": [
        "y_train = to_categorical(y_train)\n",
        "y_test = to_categorical(y_test)"
      ],
      "metadata": {
        "id": "vQyng-ynMk3t"
      },
      "execution_count": 171,
      "outputs": []
    },
    {
      "cell_type": "code",
      "source": [
        ""
      ],
      "metadata": {
        "id": "zXfw2lFMNU02"
      },
      "execution_count": null,
      "outputs": []
    },
    {
      "cell_type": "code",
      "source": [
        "y_train.shape , y_test.shape"
      ],
      "metadata": {
        "colab": {
          "base_uri": "https://localhost:8080/"
        },
        "id": "bMtcYmKZNB1c",
        "outputId": "b273dac9-01b9-4a59-9354-a0143361c5a3"
      },
      "execution_count": 172,
      "outputs": [
        {
          "output_type": "execute_result",
          "data": {
            "text/plain": [
              "((60000, 10), (10000, 10))"
            ]
          },
          "metadata": {},
          "execution_count": 172
        }
      ]
    },
    {
      "cell_type": "code",
      "source": [
        ""
      ],
      "metadata": {
        "id": "-jpCSAnHNVew"
      },
      "execution_count": null,
      "outputs": []
    },
    {
      "cell_type": "code",
      "source": [
        "X_train.shape , X_test.shape , y_train.shape , y_test.shape"
      ],
      "metadata": {
        "colab": {
          "base_uri": "https://localhost:8080/"
        },
        "id": "WxNgv4CVNHG0",
        "outputId": "3dd91146-1a75-47f9-c99b-eaa949ea4406"
      },
      "execution_count": 174,
      "outputs": [
        {
          "output_type": "execute_result",
          "data": {
            "text/plain": [
              "((60000, 784), (10000, 784), (60000, 10), (10000, 10))"
            ]
          },
          "metadata": {},
          "execution_count": 174
        }
      ]
    },
    {
      "cell_type": "code",
      "source": [
        "for idx in range(10) :\n",
        "  print(y_train[idx])"
      ],
      "metadata": {
        "colab": {
          "base_uri": "https://localhost:8080/"
        },
        "id": "cpUgoHJQNnRL",
        "outputId": "47d414f7-cb2b-4ee9-d641-33123306ab32"
      },
      "execution_count": 176,
      "outputs": [
        {
          "output_type": "stream",
          "name": "stdout",
          "text": [
            "[0. 0. 0. 0. 0. 1. 0. 0. 0. 0.]\n",
            "[1. 0. 0. 0. 0. 0. 0. 0. 0. 0.]\n",
            "[0. 0. 0. 0. 1. 0. 0. 0. 0. 0.]\n",
            "[0. 1. 0. 0. 0. 0. 0. 0. 0. 0.]\n",
            "[0. 0. 0. 0. 0. 0. 0. 0. 0. 1.]\n",
            "[0. 0. 1. 0. 0. 0. 0. 0. 0. 0.]\n",
            "[0. 1. 0. 0. 0. 0. 0. 0. 0. 0.]\n",
            "[0. 0. 0. 1. 0. 0. 0. 0. 0. 0.]\n",
            "[0. 1. 0. 0. 0. 0. 0. 0. 0. 0.]\n",
            "[0. 0. 0. 0. 1. 0. 0. 0. 0. 0.]\n"
          ]
        }
      ]
    },
    {
      "cell_type": "code",
      "source": [
        "mnist_model = Sequential()\n",
        "\n",
        "mnist_model.add( Dense(units = 50 , input_shape = (784,) , activation = 'sigmoid'))\n",
        "mnist_model.add( Dense(units = 50 , activation = 'sigmoid'))\n",
        "mnist_model.add( Dense(units = 50 , activation = 'sigmoid' ))\n",
        "mnist_model.add( Dense(units = 50 , activation = 'sigmoid' ))\n",
        "\n",
        "mnist_model.add( Dense(units = 10  , activation = 'softmax'))\n",
        "\n",
        "opt = optimizers.SGD(lr = 0.001)\n",
        "\n",
        "mnist_model.compile(optimizer = opt , \n",
        "                     loss      = 'categorical_crossentropy' , \n",
        "                     metrics   = ['accuracy']) "
      ],
      "metadata": {
        "colab": {
          "base_uri": "https://localhost:8080/"
        },
        "id": "K1jE0QdHMa1D",
        "outputId": "51807331-40b3-426d-cdb6-24a62f1c3b7d"
      },
      "execution_count": 182,
      "outputs": [
        {
          "output_type": "stream",
          "name": "stderr",
          "text": [
            "/usr/local/lib/python3.7/dist-packages/keras/optimizer_v2/gradient_descent.py:102: UserWarning: The `lr` argument is deprecated, use `learning_rate` instead.\n",
            "  super(SGD, self).__init__(name, **kwargs)\n"
          ]
        }
      ]
    },
    {
      "cell_type": "code",
      "source": [
        "mnist_model.summary()"
      ],
      "metadata": {
        "id": "Pv95wFwsN7Au"
      },
      "execution_count": null,
      "outputs": []
    },
    {
      "cell_type": "code",
      "source": [
        "mnist_model_history = mnist_model.fit(X_train , y_train , batch_size = 300 , epochs = 100 , verbose = 1 , \n",
        "                                      validation_split = 0.3)"
      ],
      "metadata": {
        "id": "TqbKnxwvN-xP"
      },
      "execution_count": null,
      "outputs": []
    },
    {
      "cell_type": "code",
      "source": [
        "mnist_model_history.history.keys()"
      ],
      "metadata": {
        "colab": {
          "base_uri": "https://localhost:8080/"
        },
        "id": "brBaYWDhOWpk",
        "outputId": "c784befa-0fd5-4f02-8b67-eb56807d5c7a"
      },
      "execution_count": 181,
      "outputs": [
        {
          "output_type": "execute_result",
          "data": {
            "text/plain": [
              "dict_keys(['loss', 'accuracy', 'val_loss', 'val_accuracy'])"
            ]
          },
          "metadata": {},
          "execution_count": 181
        }
      ]
    },
    {
      "cell_type": "code",
      "source": [
        "plt.figure( figsize = (10, 7))\n",
        "\n",
        "accuracy     = mnist_model_history.history['accuracy']\n",
        "val_accuracy = mnist_model_history.history['val_accuracy']\n",
        "\n",
        "plt.plot(accuracy , label = 'acc')\n",
        "plt.plot(val_accuracy , label = 'val_acc')\n",
        "\n",
        "plt.xlabel('Epoch')\n",
        "plt.ylabel('acc')\n",
        "\n",
        "plt.legend(loc='best')\n",
        "plt.show()\n",
        "plt.close()"
      ],
      "metadata": {
        "colab": {
          "base_uri": "https://localhost:8080/",
          "height": 442
        },
        "id": "FygdlYj9OvPK",
        "outputId": "caf571ef-9b86-4c57-b136-c5b193a4851f"
      },
      "execution_count": 185,
      "outputs": [
        {
          "output_type": "display_data",
          "data": {
            "text/plain": [
              "<Figure size 720x504 with 1 Axes>"
            ],
            "image/png": "[encoded data removed]"
          },
          "metadata": {
            "needs_background": "light"
          }
        }
      ]
    },
    {
      "cell_type": "code",
      "source": [
        "mnist_model.evaluate(X_test , y_test)"
      ],
      "metadata": {
        "colab": {
          "base_uri": "https://localhost:8080/"
        },
        "id": "jg8Q8hdETT0g",
        "outputId": "3feee419-4a54-44ce-a204-1860e61c7c2c"
      },
      "execution_count": 186,
      "outputs": [
        {
          "output_type": "stream",
          "name": "stdout",
          "text": [
            "313/313 [==============================] - 3s 6ms/step - loss: 2.5256 - accuracy: 0.1135\n"
          ]
        },
        {
          "output_type": "execute_result",
          "data": {
            "text/plain": [
              "[2.525604486465454, 0.11349999904632568]"
            ]
          },
          "metadata": {},
          "execution_count": 186
        }
      ]
    },
    {
      "cell_type": "code",
      "source": [
        "print('case02 - ')\n",
        "print('분류 - 다중(mnist)')\n",
        "(X_train , y_train), (X_test , y_test) = mnist.load_data()\n",
        "(X_train.shape , y_train.shape), (X_test.shape , y_test.shape)\n"
      ],
      "metadata": {
        "colab": {
          "base_uri": "https://localhost:8080/"
        },
        "id": "cmsXp3UnUANK",
        "outputId": "8237e789-98c6-40c3-8635-7be87fd332cd"
      },
      "execution_count": 187,
      "outputs": [
        {
          "output_type": "stream",
          "name": "stdout",
          "text": [
            "case02 - \n",
            "분류 - 다중(mnist)\n"
          ]
        },
        {
          "output_type": "execute_result",
          "data": {
            "text/plain": [
              "(((60000, 28, 28), (60000,)), ((10000, 28, 28), (10000,)))"
            ]
          },
          "metadata": {},
          "execution_count": 187
        }
      ]
    },
    {
      "cell_type": "code",
      "source": [
        "print('데이터 전처리 - 0 ~ 1.0 ')\n",
        "X_train , X_test = X_train/255.0 , X_test/255.0\n",
        " "
      ],
      "metadata": {
        "colab": {
          "base_uri": "https://localhost:8080/"
        },
        "id": "S0toovihUQPN",
        "outputId": "ae7fbd0e-ca8d-463a-bdd0-cfc0fdf032ed"
      },
      "execution_count": 189,
      "outputs": [
        {
          "output_type": "stream",
          "name": "stdout",
          "text": [
            "데이터 전처리 - 0 ~ 1.0 \n"
          ]
        }
      ]
    },
    {
      "cell_type": "code",
      "source": [
        "mnist_model = Sequential()\n",
        "\n",
        "mnist_model.add( Flatten(input_shape = (28 , 28)))\n",
        "\n",
        "mnist_model.add( Dense(units = 512 , activation = 'sigmoid'))\n",
        "\n",
        "mnist_model.add( Dense(units = 10  , activation = 'softmax'))\n",
        "\n",
        "# opt = optimizers.SGD(lr = 0.001)\n",
        "\n",
        "mnist_model.compile(optimizer  = 'adam' , \n",
        "                     loss      = 'sparse_categorical_crossentropy' , \n",
        "                     metrics   = ['accuracy']) "
      ],
      "metadata": {
        "id": "7KYnC-oyUaHf"
      },
      "execution_count": 193,
      "outputs": []
    },
    {
      "cell_type": "code",
      "source": [
        "mnist_model.fit(X_train , y_train , epochs = 5)"
      ],
      "metadata": {
        "colab": {
          "base_uri": "https://localhost:8080/"
        },
        "id": "xDJvEWdEUqar",
        "outputId": "8fd17ab8-0950-442c-a857-13d7e63b61f0"
      },
      "execution_count": 194,
      "outputs": [
        {
          "output_type": "stream",
          "name": "stdout",
          "text": [
            "Epoch 1/5\n",
            "1875/1875 [==============================] - 6s 3ms/step - loss: 0.3384 - accuracy: 0.9044\n",
            "Epoch 2/5\n",
            "1875/1875 [==============================] - 4s 2ms/step - loss: 0.1718 - accuracy: 0.9499\n",
            "Epoch 3/5\n",
            "1875/1875 [==============================] - 4s 2ms/step - loss: 0.1130 - accuracy: 0.9663\n",
            "Epoch 4/5\n",
            "1875/1875 [==============================] - 4s 2ms/step - loss: 0.0790 - accuracy: 0.9766\n",
            "Epoch 5/5\n",
            "1875/1875 [==============================] - 4s 2ms/step - loss: 0.0588 - accuracy: 0.9824\n"
          ]
        },
        {
          "output_type": "execute_result",
          "data": {
            "text/plain": [
              "<keras.callbacks.History at 0x7f74b5d48990>"
            ]
          },
          "metadata": {},
          "execution_count": 194
        }
      ]
    },
    {
      "cell_type": "code",
      "source": [
        "print('정확도 평가 - ')\n",
        "mnist_model.evaluate(X_test , y_test)"
      ],
      "metadata": {
        "colab": {
          "base_uri": "https://localhost:8080/"
        },
        "id": "ZsXhASiFWXeY",
        "outputId": "fe48cedf-597f-4e9a-9a2a-0bc9fc06670e"
      },
      "execution_count": 195,
      "outputs": [
        {
          "output_type": "stream",
          "name": "stdout",
          "text": [
            "정확도 평가 - \n",
            "313/313 [==============================] - 1s 3ms/step - loss: 0.0725 - accuracy: 0.9781\n"
          ]
        },
        {
          "output_type": "execute_result",
          "data": {
            "text/plain": [
              "[0.07247545570135117, 0.9781000018119812]"
            ]
          },
          "metadata": {},
          "execution_count": 195
        }
      ]
    },
    {
      "cell_type": "code",
      "source": [
        "print('에포크에 따른 정확도와 손실 시각화 - ')\n",
        "\n",
        "loss , accuracy = [] , []\n",
        "for idx in range(10) :\n",
        "  mnist_model.fit(X_train , y_train, epochs = 1 )\n",
        "  loss.append(mnist_model.evaluate(X_test , y_test)[0])\n",
        "  accuracy.append(mnist_model.evaluate(X_test , y_test)[1])\n",
        "\n",
        "print(accuracy)"
      ],
      "metadata": {
        "id": "l2qYIhhSWpVe"
      },
      "execution_count": null,
      "outputs": []
    },
    {
      "cell_type": "code",
      "source": [
        "accuracy\n",
        "loss\n",
        "\n",
        "plt.figure( figsize = (10, 7))\n",
        "\n",
        "\n",
        "plt.plot(accuracy , label = 'acc')\n",
        "\n",
        "plt.xlabel('Epoch')\n",
        "plt.ylabel('acc')\n",
        "\n",
        "plt.legend(loc='best')\n",
        "plt.show()\n",
        "plt.close()"
      ],
      "metadata": {
        "colab": {
          "base_uri": "https://localhost:8080/",
          "height": 442
        },
        "id": "kR_ls2o_XiMj",
        "outputId": "ed28d906-742b-4e8a-fc0f-ae9ec9653663"
      },
      "execution_count": 201,
      "outputs": [
        {
          "output_type": "display_data",
          "data": {
            "text/plain": [
              "<Figure size 720x504 with 1 Axes>"
            ],
            "image/png": "[encoded data removed]"
          },
          "metadata": {
            "needs_background": "light"
          }
        }
      ]
    },
    {
      "cell_type": "code",
      "source": [
        "print('case03 - 함수형 API')\n",
        "\n",
        "print('분류 - 다중(mnist)')\n",
        "(X_train , y_train), (X_test , y_test) = mnist.load_data()\n",
        "(X_train.shape , y_train.shape), (X_test.shape , y_test.shape)\n",
        "\n",
        "X_train = X_train.reshape( X_train.shape[0] , -1)\n",
        "X_test = X_test.reshape( X_test.shape[0] , -1)\n",
        "\n",
        "y_train = to_categorical(y_train)\n",
        "y_test = to_categorical(y_test)"
      ],
      "metadata": {
        "colab": {
          "base_uri": "https://localhost:8080/"
        },
        "id": "UKB-FXY0YkuP",
        "outputId": "359636cf-ebaf-4b0a-84c0-6123ceed1c58"
      },
      "execution_count": 202,
      "outputs": [
        {
          "output_type": "stream",
          "name": "stdout",
          "text": [
            "case03 - 함수형 API\n",
            "분류 - 다중(mnist)\n"
          ]
        }
      ]
    },
    {
      "cell_type": "code",
      "source": [
        "(X_train.shape , y_train.shape), (X_test.shape , y_test.shape)"
      ],
      "metadata": {
        "colab": {
          "base_uri": "https://localhost:8080/"
        },
        "id": "SDkKzfZjZlC9",
        "outputId": "584af36b-ee80-424d-f4f5-b52b87a067c8"
      },
      "execution_count": 203,
      "outputs": [
        {
          "output_type": "execute_result",
          "data": {
            "text/plain": [
              "(((60000, 784), (60000, 10)), ((10000, 784), (10000, 10)))"
            ]
          },
          "metadata": {},
          "execution_count": 203
        }
      ]
    },
    {
      "cell_type": "code",
      "source": [
        "input_layer = Input(shape=(784, ) , name = 'input') \n",
        "\n",
        "hidden_layer01 = Dense(512 , activation = 'relu' , name='hidden01')(input_layer)\n",
        "hidden_layer02 = Dense(128 , activation = 'relu' , name='hidden02')(hidden_layer01)\n",
        "hidden_layer03 = Dense(64  , activation = 'relu' , name='hidden03')(hidden_layer02)\n",
        "hidden_layer04 = Dense(32  , activation = 'relu' , name='hidden04')(hidden_layer03)\n",
        "\n",
        "output_layer = Dense(10 , activation = 'softmax' , name = 'output')(hidden_layer04)\n",
        "\n",
        "mnist_model = Model(inputs=[input_layer] , outputs = [output_layer])\n",
        "mnist_model.summary()\n"
      ],
      "metadata": {
        "id": "QTOC9yewZl2o"
      },
      "execution_count": null,
      "outputs": []
    },
    {
      "cell_type": "code",
      "source": [
        "mnist_model.compile(optimizer  = 'adam' , \n",
        "                     loss      = 'categorical_crossentropy' , \n",
        "                     metrics   = ['accuracy']) "
      ],
      "metadata": {
        "id": "IsWZd5IAaFmV"
      },
      "execution_count": 214,
      "outputs": []
    },
    {
      "cell_type": "code",
      "source": [
        "mnist_model_history = mnist_model.fit(X_train , y_train , batch_size = 300 , epochs = 50 , verbose = 1 , \n",
        "                                      validation_split = 0.3)"
      ],
      "metadata": {
        "id": "ylOiBrl9baBc"
      },
      "execution_count": null,
      "outputs": []
    },
    {
      "cell_type": "code",
      "source": [
        "print('정확도 평가 - ')\n",
        "mnist_model.evaluate(X_test , y_test)"
      ],
      "metadata": {
        "colab": {
          "base_uri": "https://localhost:8080/"
        },
        "id": "_99rgHH_bidv",
        "outputId": "585b137c-c765-4f0d-b561-66b9cb223869"
      },
      "execution_count": 216,
      "outputs": [
        {
          "output_type": "stream",
          "name": "stdout",
          "text": [
            "정확도 평가 - \n",
            "313/313 [==============================] - 2s 5ms/step - loss: 0.2228 - accuracy: 0.9709\n"
          ]
        },
        {
          "output_type": "execute_result",
          "data": {
            "text/plain": [
              "[0.22283034026622772, 0.9708999991416931]"
            ]
          },
          "metadata": {},
          "execution_count": 216
        }
      ]
    },
    {
      "cell_type": "code",
      "source": [
        ""
      ],
      "metadata": {
        "id": "fmjii2tgb22v"
      },
      "execution_count": null,
      "outputs": []
    }
  ]
}